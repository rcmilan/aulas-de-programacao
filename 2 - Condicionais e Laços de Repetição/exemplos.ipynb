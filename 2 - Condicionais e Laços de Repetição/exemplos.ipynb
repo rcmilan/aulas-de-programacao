{
 "cells": [
  {
   "cell_type": "markdown",
   "metadata": {},
   "source": [
    "# !!! Exemplos em C#"
   ]
  },
  {
   "cell_type": "code",
   "execution_count": 1,
   "metadata": {
    "dotnet_interactive": {
     "language": "csharp"
    },
    "polyglot_notebook": {
     "language": "csharp"
    },
    "vscode": {
     "languageId": "dotnet-interactive.csharp"
    }
   },
   "outputs": [
    {
     "name": "stdout",
     "output_type": "stream",
     "text": [
      "Passou por aqui 1 vezes\r\n",
      "Passou por aqui 2 vezes\r\n",
      "Passou por aqui 3 vezes\r\n",
      "Passou por aqui 4 vezes\r\n",
      "Passou por aqui 5 vezes\r\n"
     ]
    }
   ],
   "source": [
    "for (int i = 1; i <= 5; i++) {\n",
    "    Console.WriteLine($\"Passou por aqui {i} vezes\");\n",
    "}"
   ]
  },
  {
   "cell_type": "code",
   "execution_count": 2,
   "metadata": {
    "dotnet_interactive": {
     "language": "csharp"
    },
    "vscode": {
     "languageId": "dotnet-interactive.csharp"
    }
   },
   "outputs": [
    {
     "name": "stdout",
     "output_type": "stream",
     "text": [
      "condicao é TRUE. valor do contador [0]\r\n",
      "condicao é TRUE. valor do contador [1]\r\n",
      "condicao é TRUE. valor do contador [2]\r\n",
      "condicao é TRUE. valor do contador [3]\r\n",
      "condicao é TRUE. valor do contador [4]\r\n",
      "condicao é FALSE. valor do contador [5]\r\n"
     ]
    }
   ],
   "source": [
    "int contador = 0;\n",
    "\n",
    "while (contador < 5) {\n",
    "    Console.WriteLine($\"condicao é TRUE. valor do contador [{contador}]\");\n",
    "\n",
    "    contador++;;\n",
    "}\n",
    "Console.WriteLine($\"condicao é FALSE. valor do contador [{contador}]\");"
   ]
  },
  {
   "cell_type": "code",
   "execution_count": 3,
   "metadata": {
    "dotnet_interactive": {
     "language": "csharp"
    },
    "vscode": {
     "languageId": "dotnet-interactive.csharp"
    }
   },
   "outputs": [
    {
     "name": "stdout",
     "output_type": "stream",
     "text": [
      "Passou por aqui uma vez apesar da condição ser sempre FALSE\r\n"
     ]
    }
   ],
   "source": [
    "// laços DO..WHILE são semelhantes ao WHILE contudo sua condição é validada NO FINAL de cada repetição\n",
    "\n",
    "bool condicao = false;\n",
    "\n",
    "do {\n",
    "    Console.WriteLine(\"Passou por aqui uma vez apesar da condição ser sempre FALSE\");\n",
    "} while (condicao);"
   ]
  },
  {
   "cell_type": "code",
   "execution_count": 4,
   "metadata": {
    "dotnet_interactive": {
     "language": "csharp"
    },
    "vscode": {
     "languageId": "dotnet-interactive.csharp"
    }
   },
   "outputs": [
    {
     "name": "stdout",
     "output_type": "stream",
     "text": [
      "Fuscão preto feito de aço\r\n",
      "Fusca azul da violencia\r\n",
      "Bike sem roda\r\n",
      "Skate\r\n",
      "Micro onibus clandestino\r\n"
     ]
    }
   ],
   "source": [
    "// laços FOREACH são utilizados para iterar objetos enumeraveis\n",
    "string[] veiculos = {\"Fuscão preto feito de aço\", \"Fusca azul da violencia\", \"Bike sem roda\", \"Skate\", \"Micro onibus clandestino\"};\n",
    "\n",
    "foreach (var veiculoMaroto in veiculos) {\n",
    "    // o laço é executado para cada item do enumeravel\n",
    "    Console.WriteLine(veiculoMaroto);\n",
    "}"
   ]
  }
 ],
 "metadata": {
  "kernelspec": {
   "display_name": ".NET (C#)",
   "language": "C#",
   "name": ".net-csharp"
  },
  "language_info": {
   "name": "C#"
  }
 },
 "nbformat": 4,
 "nbformat_minor": 2
}
